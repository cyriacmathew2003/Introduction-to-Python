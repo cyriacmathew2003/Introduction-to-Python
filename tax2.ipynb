{
  "nbformat": 4,
  "nbformat_minor": 0,
  "metadata": {
    "colab": {
      "provenance": [],
      "collapsed_sections": [],
      "authorship_tag": "ABX9TyORxw61L/1jMXlNDQr4jif7",
      "include_colab_link": true
    },
    "kernelspec": {
      "name": "python3",
      "display_name": "Python 3"
    },
    "language_info": {
      "name": "python"
    }
  },
  "cells": [
    {
      "cell_type": "markdown",
      "metadata": {
        "id": "view-in-github",
        "colab_type": "text"
      },
      "source": [
        "<a href=\"https://colab.research.google.com/github/cyriacmathew2003/Introduction-to-Python/blob/main/tax2.ipynb\" target=\"_parent\"><img src=\"https://colab.research.google.com/assets/colab-badge.svg\" alt=\"Open In Colab\"/></a>"
      ]
    },
    {
      "cell_type": "code",
      "execution_count": 1,
      "metadata": {
        "colab": {
          "base_uri": "https://localhost:8080/"
        },
        "id": "7a9qg4Z0nP2e",
        "outputId": "16cd9e1b-b3ee-45c1-9cde-ed06909c50bb"
      },
      "outputs": [
        {
          "output_type": "stream",
          "name": "stdout",
          "text": [
            "enter your salary50000\n",
            "you are not taxable\n"
          ]
        }
      ],
      "source": [
        "x=int(input(\"enter your salary\"))\n",
        "if x<250000  :\n",
        "  print(\"you are not taxable\")\n",
        "if x >250000 and x <500000  :\n",
        "    y=  (x-250000)*10/100\n",
        "    print(\"you are taxable\",\"you interst is\",y)\n",
        "if x >500000 and x <750000 :\n",
        "    y =(x-500000)*20/100\n",
        "    print(\"you are taxable\",\"your interest is\",y)\n",
        "\n",
        "\n",
        "\n",
        "\n",
        "\n"
      ]
    },
    {
      "cell_type": "code",
      "source": [
        "salary=int(input())\n",
        "if salary <250000 :\n",
        "  print(\"NO TAX\")\n",
        "if salary >250000 and salary <500000 :\n",
        "  print(\"You are taxable\",(salary-250000)/10)\n",
        "if salary >500000 and salary <750000 :\n",
        "  print(\"You are taxable\",250000/10 + (salary-500000)*20/100)\n",
        "if salary >750000 :\n",
        "  print(\"you are taxable\",(250000)*10/100 +(250000*20/100) + (salary-750000)*30/100)\n",
        "if 1000000 <salary  :\n",
        "  print(\"salary taxable\")\n",
        "  print(250000)*10/100 +(250000*(20/100) + (92500000*(30/100))+((salary-1000000)*(32/100)))"
      ],
      "metadata": {
        "colab": {
          "base_uri": "https://localhost:8080/"
        },
        "id": "7pkhJZPnqKUu",
        "outputId": "1fa992b8-91e6-4c65-d8b5-1b95d75e4f14"
      },
      "execution_count": 2,
      "outputs": [
        {
          "output_type": "stream",
          "name": "stdout",
          "text": [
            "600000\n",
            "You are taxable 45000.0\n"
          ]
        }
      ]
    },
    {
      "cell_type": "code",
      "source": [
        "3\n"
      ],
      "metadata": {
        "colab": {
          "base_uri": "https://localhost:8080/"
        },
        "id": "fasJk0Eax816",
        "outputId": "726e26ae-2f94-4ca9-f88c-de0e1e2c3326"
      },
      "execution_count": 3,
      "outputs": [
        {
          "output_type": "execute_result",
          "data": {
            "text/plain": [
              "3"
            ]
          },
          "metadata": {},
          "execution_count": 3
        }
      ]
    },
    {
      "cell_type": "code",
      "source": [],
      "metadata": {
        "id": "3Vl37Vy05BKs"
      },
      "execution_count": 3,
      "outputs": []
    }
  ]
}