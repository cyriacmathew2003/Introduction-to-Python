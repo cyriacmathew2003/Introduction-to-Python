{
  "nbformat": 4,
  "nbformat_minor": 0,
  "metadata": {
    "colab": {
      "provenance": [],
      "authorship_tag": "ABX9TyMHKA4joX1gWuyCIhqOk6VS",
      "include_colab_link": true
    },
    "kernelspec": {
      "name": "python3",
      "display_name": "Python 3"
    },
    "language_info": {
      "name": "python"
    }
  },
  "cells": [
    {
      "cell_type": "markdown",
      "metadata": {
        "id": "view-in-github",
        "colab_type": "text"
      },
      "source": [
        "<a href=\"https://colab.research.google.com/github/cyriacmathew2003/Introduction-to-Python/blob/main/17_11_2022.ipynb\" target=\"_parent\"><img src=\"https://colab.research.google.com/assets/colab-badge.svg\" alt=\"Open In Colab\"/></a>"
      ]
    },
    {
      "cell_type": "code",
      "execution_count": 1,
      "metadata": {
        "colab": {
          "base_uri": "https://localhost:8080/"
        },
        "id": "O8yOIU-Nh9Az",
        "outputId": "9536c6a5-2188-4a0a-960c-1287ab73f2ab"
      },
      "outputs": [
        {
          "output_type": "stream",
          "name": "stdout",
          "text": [
            "enter a absolute value-5454\n",
            "5454\n"
          ]
        }
      ],
      "source": [
        "x=int(input(\"enter a absolute value\"))\n",
        "if x<0:\n",
        " print(x*(-1))"
      ]
    },
    {
      "cell_type": "code",
      "source": [
        "num=int(input())\n",
        "if(num>0):\n",
        "     print(\"absolute vale of\",num,\"is\",num)\n",
        "else:\n",
        "   num=num*(-1)\n",
        "   print(\"absolut value of\",num,\"is\",num)"
      ],
      "metadata": {
        "colab": {
          "base_uri": "https://localhost:8080/"
        },
        "id": "TWD-Am3FkE04",
        "outputId": "6278ef93-7564-4609-8d36-9b61207729fe"
      },
      "execution_count": 2,
      "outputs": [
        {
          "output_type": "stream",
          "name": "stdout",
          "text": [
            "54\n",
            "absolute vale of 54 is 54\n"
          ]
        }
      ]
    },
    {
      "cell_type": "code",
      "source": [
        "x=int(input(\"enter marks\"))\n",
        "if x<=25:\n",
        "  print(\"F\")\n",
        "if 25 <x <=45:\n",
        "  print(\"E\") \n",
        "if 45 <x <=50:\n",
        "   print(\"D\") \n",
        "if 50 <x <=60:\n",
        "   print(\"C\")\n",
        "if 60 <x  <=70:\n",
        "   print(\"B\")\n",
        "if x>80: \n",
        "    print(\"A\")      \n",
        "\n"
      ],
      "metadata": {
        "colab": {
          "base_uri": "https://localhost:8080/"
        },
        "id": "buC_Z0_RnIg6",
        "outputId": "c62b45dd-ed16-4be4-a186-11ffbda8958a"
      },
      "execution_count": 3,
      "outputs": [
        {
          "output_type": "stream",
          "name": "stdout",
          "text": [
            "enter marks23\n",
            "F\n"
          ]
        }
      ]
    },
    {
      "cell_type": "code",
      "source": [
        "x=int(input(\"number of class held\"))\n",
        "y=int(input(\"number of classes attended\"))\n",
        "z=y/x*100\n",
        "if z>75:\n",
        "   print(z,\"you are  able to attend the exam\")\n",
        "if z<75:\n",
        "   print(z,\"you are not able to attend the exam\")"
      ],
      "metadata": {
        "colab": {
          "base_uri": "https://localhost:8080/"
        },
        "id": "0dSIFlmnoHKr",
        "outputId": "3d0ca688-624e-4f88-a634-effa99d6480c"
      },
      "execution_count": 4,
      "outputs": [
        {
          "output_type": "stream",
          "name": "stdout",
          "text": [
            "number of class held23\n",
            "number of classes attended4\n",
            "17.391304347826086 you are not able to attend the exam\n"
          ]
        }
      ]
    },
    {
      "cell_type": "code",
      "source": [
        "\n",
        "print(\"1.Addition \\n2.Subtraction \\n3.Multiplication \\n4.Division \\n5.Modulus \\n6.Floor Division \\n7.Exponent\")\n",
        "x=int(input(\"Enter operation: \"))\n",
        "a=int(input(\"Enter a number: \"))\n",
        "b=int(input(\"Enter a number: \"))\n",
        "if x==1:\n",
        "  print(\"addition\")\n",
        "  print(a+b)\n",
        "if x==2:\n",
        "  print(\"subraction\")\n",
        "  print(a-b)    \n",
        "if x==3:\n",
        "  print(\"multiplicaton\")\n",
        "  print(a*b)\n",
        "if x==4:\n",
        "  print(\"Division\")\n",
        "  print(a/b)\n",
        "if x==5:\n",
        "  print(\"modulus\")\n",
        "  print(a%b)\n",
        "if x==6:\n",
        "  print(\"Floor Division\")\n",
        "  print(a//b)\n",
        "if x==7:\n",
        "  print(\"Exponent\")\n",
        "  print(a**b)"
      ],
      "metadata": {
        "colab": {
          "base_uri": "https://localhost:8080/"
        },
        "id": "C68tikuNs3cm",
        "outputId": "53ebc4b0-7cdf-44b1-95a5-603e1df4f17f"
      },
      "execution_count": 5,
      "outputs": [
        {
          "name": "stdout",
          "output_type": "stream",
          "text": [
            "1.Addition \n",
            "2.Subtraction \n",
            "3.Multiplication \n",
            "4.Division \n",
            "5.Modulus \n",
            "6.Floor Division \n",
            "7.Exponent\n",
            "Enter operation: 8\n",
            "Enter a number: 4\n",
            "Enter a number: 5\n"
          ]
        }
      ]
    },
    {
      "cell_type": "code",
      "source": [
        "x=int(input(\"enter a mark of subject 1\"))\n",
        "a=int(input(\"enter a mark of subject 2\"))\n",
        "b=int(input(\"enter a mark of subject 3 \"))\n",
        "c=int(input(\"enter a mark of subject 4\"))\n",
        "d=int(input(\"enter a mark of subject 5\"))\n",
        "print(\"least marks\",min(x,a,b,c,d))\n",
        "print(\"max marks\",max(x,a,b,c,d))\n",
        "print(x+a+b+c+d/5)"
      ],
      "metadata": {
        "colab": {
          "base_uri": "https://localhost:8080/"
        },
        "id": "z__3biYBwOe-",
        "outputId": "e10b8ab1-a201-490b-b985-6847ab061f97"
      },
      "execution_count": 6,
      "outputs": [
        {
          "output_type": "stream",
          "name": "stdout",
          "text": [
            "enter a mark of subject 185\n",
            "enter a mark of subject 258\n",
            "enter a mark of subject 3 944\n",
            "enter a mark of subject 464\n",
            "enter a mark of subject 5646\n",
            "least marks 58\n",
            "max marks 944\n",
            "1280.2\n"
          ]
        }
      ]
    },
    {
      "cell_type": "code",
      "source": [
        "num= int(input(\"enter the number to display the corresponding\"))\n",
        "for i in range(1,11):\n",
        "   print(i*num)\n",
        "   \n"
      ],
      "metadata": {
        "id": "Fpm5GkOk5jqU",
        "colab": {
          "base_uri": "https://localhost:8080/"
        },
        "outputId": "4ed69e1d-4cc7-44ed-9050-27f51f48949a"
      },
      "execution_count": 7,
      "outputs": [
        {
          "output_type": "stream",
          "name": "stdout",
          "text": [
            "enter the number to display the corresponding4\n",
            "4\n",
            "8\n",
            "12\n",
            "16\n",
            "20\n",
            "24\n",
            "28\n",
            "32\n",
            "36\n",
            "40\n"
          ]
        }
      ]
    },
    {
      "cell_type": "code",
      "source": [
        "num= int(input(\"enter the number to display the corresponding\"))\n",
        "for i in range(1,11):\n",
        "   print(i,\"*\",num,\"=\",i*num)"
      ],
      "metadata": {
        "colab": {
          "base_uri": "https://localhost:8080/"
        },
        "id": "lJuUisXHuOQq",
        "outputId": "27593fa1-ffbf-4978-a5f5-f5955b40e444"
      },
      "execution_count": 8,
      "outputs": [
        {
          "output_type": "stream",
          "name": "stdout",
          "text": [
            "enter the number to display the corresponding15\n",
            "1 * 15 = 15\n",
            "2 * 15 = 30\n",
            "3 * 15 = 45\n",
            "4 * 15 = 60\n",
            "5 * 15 = 75\n",
            "6 * 15 = 90\n",
            "7 * 15 = 105\n",
            "8 * 15 = 120\n",
            "9 * 15 = 135\n",
            "10 * 15 = 150\n"
          ]
        }
      ]
    },
    {
      "cell_type": "code",
      "source": [
        "num=(input(\"enter the number\"))\n",
        "k=0 \n",
        "for i in num:\n",
        "  k=k+1\n",
        "print(k)\n"
      ],
      "metadata": {
        "colab": {
          "base_uri": "https://localhost:8080/"
        },
        "id": "qjpSn567uqZw",
        "outputId": "3d59342a-07b2-42b1-9cd9-36f58e006955"
      },
      "execution_count": 9,
      "outputs": [
        {
          "output_type": "stream",
          "name": "stdout",
          "text": [
            "enter the number31\n",
            "2\n"
          ]
        }
      ]
    },
    {
      "cell_type": "code",
      "source": [
        "num=int(input())\n",
        "i=1\n",
        "while(i<=10):\n",
        "  print(i*num)\n",
        "  i=i+1"
      ],
      "metadata": {
        "colab": {
          "base_uri": "https://localhost:8080/"
        },
        "id": "jnvZHvWOxyK4",
        "outputId": "ddedd4e2-d4b6-4a07-948b-b1a7d3e0fb72"
      },
      "execution_count": 10,
      "outputs": [
        {
          "output_type": "stream",
          "name": "stdout",
          "text": [
            "33\n",
            "33\n",
            "66\n",
            "99\n",
            "132\n",
            "165\n",
            "198\n",
            "231\n",
            "264\n",
            "297\n",
            "330\n"
          ]
        }
      ]
    },
    {
      "cell_type": "code",
      "source": [
        "string=input((\"enter string: \"))\n",
        "reversestring= \"\"\n",
        "for i in string:\n",
        "    reversestring = i + reversestring\n",
        "print(\"reverse string: \",reversestring)      \n",
        "if (string == reversestring):\n",
        "    print(\"the string is palindrome\")\n",
        "else:\n",
        "    print(\"the string is not palindrome\")"
      ],
      "metadata": {
        "colab": {
          "base_uri": "https://localhost:8080/"
        },
        "id": "YmxCzP3Cyd0j",
        "outputId": "620de02f-9032-499d-be02-4fe8e748e4e3"
      },
      "execution_count": 11,
      "outputs": [
        {
          "output_type": "stream",
          "name": "stdout",
          "text": [
            "enter string: maka\n",
            "reverse string:  akam\n",
            "the string is not palindrome\n"
          ]
        }
      ]
    },
    {
      "cell_type": "code",
      "source": [
        "name=input((\"enter the username\"))\n",
        "name=name.replace(\"y\",\"a\")\n",
        "print(name)"
      ],
      "metadata": {
        "colab": {
          "base_uri": "https://localhost:8080/"
        },
        "id": "7tNahNis3Gjp",
        "outputId": "6a67d04d-e4cf-45cc-fe78-2175a8fe69f6"
      },
      "execution_count": 12,
      "outputs": [
        {
          "output_type": "stream",
          "name": "stdout",
          "text": [
            "enter the usernamecyriac\n",
            "cariac\n"
          ]
        }
      ]
    },
    {
      "cell_type": "code",
      "source": [
        "name=input((\"enter a username\"))\n",
        "if name.isupper():\n",
        "  print(\"Upper case\")\n",
        "  print(name.lower())\n",
        "if name.islower():\n",
        "  print(\"lower case\")\n",
        "  print(name.upper())"
      ],
      "metadata": {
        "colab": {
          "base_uri": "https://localhost:8080/"
        },
        "id": "79dzXlH4-p2l",
        "outputId": "2b87505c-865b-46f5-f288-1c1d47d6f8ad"
      },
      "execution_count": 13,
      "outputs": [
        {
          "output_type": "stream",
          "name": "stdout",
          "text": [
            "enter a usernamecyriac\n",
            "lower case\n",
            "CYRIAC\n"
          ]
        }
      ]
    },
    {
      "cell_type": "code",
      "source": [],
      "metadata": {
        "id": "bqbObdHeBP2r"
      },
      "execution_count": 13,
      "outputs": []
    }
  ]
}