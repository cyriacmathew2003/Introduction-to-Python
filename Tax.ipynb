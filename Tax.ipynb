{
  "nbformat": 4,
  "nbformat_minor": 0,
  "metadata": {
    "colab": {
      "provenance": []
    },
    "kernelspec": {
      "name": "python3",
      "display_name": "Python 3"
    },
    "language_info": {
      "name": "python"
    }
  },
  "cells": [
    {
      "cell_type": "code",
      "source": [
        "mark=int(input())"
      ],
      "metadata": {
        "colab": {
          "base_uri": "https://localhost:8080/"
        },
        "id": "OOP4MHBEg9Gs",
        "outputId": "3c9dc24a-74aa-4f96-e603-4ad26c9d4a78"
      },
      "execution_count": 1,
      "outputs": [
        {
          "name": "stdout",
          "output_type": "stream",
          "text": [
            "50\n"
          ]
        }
      ]
    },
    {
      "cell_type": "code",
      "source": [
        "\n",
        "if mark >50 :\n",
        "  print (\"you are passed\")\n",
        "  if mark <50 :\n",
        "    print(\"you are failed\")"
      ],
      "metadata": {
        "id": "F4dIFWB9iTd5"
      },
      "execution_count": 2,
      "outputs": []
    },
    {
      "cell_type": "code",
      "source": [
        "mark=int(input())"
      ],
      "metadata": {
        "colab": {
          "base_uri": "https://localhost:8080/"
        },
        "id": "XiIEZV1OkH7C",
        "outputId": "4a8d9f3c-d2eb-48f2-b6c7-0ce95e32cd2e"
      },
      "execution_count": 3,
      "outputs": [
        {
          "name": "stdout",
          "output_type": "stream",
          "text": [
            "51\n"
          ]
        }
      ]
    },
    {
      "cell_type": "code",
      "source": [
        "if mark==50  : \n",
        "  print (\"just passed\") "
      ],
      "metadata": {
        "id": "_pyTVhBbjLgV"
      },
      "execution_count": 4,
      "outputs": []
    },
    {
      "cell_type": "code",
      "source": [
        "\n",
        "salary=int(input())\n",
        "if salary >250000 :\n",
        "  print(\"salary  taxable\")\n",
        "if salary <250000  :\n",
        "    print(\"salary not taxable\")\n"
      ],
      "metadata": {
        "colab": {
          "base_uri": "https://localhost:8080/"
        },
        "id": "JUYSjqXzj-rq",
        "outputId": "644c1a6b-f98a-4e65-a19c-1e2b26ca0afb"
      },
      "execution_count": 5,
      "outputs": [
        {
          "output_type": "stream",
          "name": "stdout",
          "text": [
            "300000\n",
            "salary  taxable\n"
          ]
        }
      ]
    },
    {
      "cell_type": "code",
      "source": [
        "salary=int(input())\n",
        "if salary >250000  :\n",
        "  print(\"salary taxable\")\n",
        "  print(salary*10/100)\n",
        "if salary <250000  :\n",
        "    print(\" salary not taxable\")"
      ],
      "metadata": {
        "colab": {
          "base_uri": "https://localhost:8080/"
        },
        "id": "K7CfVkbTl4sW",
        "outputId": "df6a6775-52a5-4159-c1b8-28c48441f880"
      },
      "execution_count": 6,
      "outputs": [
        {
          "output_type": "stream",
          "name": "stdout",
          "text": [
            "400000\n",
            "salary taxable\n",
            "40000.0\n"
          ]
        }
      ]
    },
    {
      "cell_type": "code",
      "source": [
        "salary=int(input())\n",
        "if salary >250000 :\n",
        "  print(\"salary taxable\")\n",
        "  print((salary-250000)*10/100)\n",
        "if salary <250000  :\n",
        "  print(\"salary not taxable\")\n"
      ],
      "metadata": {
        "colab": {
          "base_uri": "https://localhost:8080/"
        },
        "id": "vpK-HDNvnver",
        "outputId": "eb2a5f4d-0c90-4402-c32a-1a46c0f49762"
      },
      "execution_count": 7,
      "outputs": [
        {
          "output_type": "stream",
          "name": "stdout",
          "text": [
            "300000\n",
            "salary taxable\n",
            "5000.0\n"
          ]
        }
      ]
    },
    {
      "cell_type": "code",
      "source": [
        "salary=int(input())\n",
        "if 0< salary<=250000  :\n",
        "  print(\"salary  not taxable\")\n",
        "if 250000<salary<=500000 :\n",
        "   print (\"salary taxable\")\n",
        "   print ((salary-250000)*10/100)\n",
        "if salary >500000  :\n",
        "  print(\"salarytaxable\")\n",
        "  print((salary-250000)*20/100)"
      ],
      "metadata": {
        "colab": {
          "base_uri": "https://localhost:8080/"
        },
        "id": "DK2KIiJ9p8RN",
        "outputId": "0f2cbaee-5bae-408b-954c-383dbda5d0ac"
      },
      "execution_count": 8,
      "outputs": [
        {
          "output_type": "stream",
          "name": "stdout",
          "text": [
            "500000\n",
            "salary taxable\n",
            "25000.0\n"
          ]
        }
      ]
    },
    {
      "cell_type": "code",
      "source": [
        "salary=int(input())\n",
        "if 0< salary<=250000 :\n",
        "  print(\"salary  not taxable\")\n",
        "if 250000<salary<=500000 :\n",
        "  print(\"salary taxable\")\n",
        "  print((salary-250000)*10/100)\n",
        "if salary >500000  :\n",
        "  print(\"salary taxable\")\n",
        "  print((250000*(10/100))+((salary-500000)*(20/100)))"
      ],
      "metadata": {
        "colab": {
          "base_uri": "https://localhost:8080/"
        },
        "id": "tOtbLkZutJFD",
        "outputId": "d118c97a-ff3b-49cf-b7d9-40c51587a2aa"
      },
      "execution_count": 9,
      "outputs": [
        {
          "output_type": "stream",
          "name": "stdout",
          "text": [
            "600000\n",
            "salary taxable\n",
            "45000.0\n"
          ]
        }
      ]
    },
    {
      "cell_type": "code",
      "source": [],
      "metadata": {
        "id": "G5LXr8Hd2RXu"
      },
      "execution_count": 9,
      "outputs": []
    }
  ]
}