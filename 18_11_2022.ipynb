{
  "nbformat": 4,
  "nbformat_minor": 0,
  "metadata": {
    "colab": {
      "provenance": [],
      "authorship_tag": "ABX9TyPtwiq9JUO6zO1sgXtqYxZi",
      "include_colab_link": true
    },
    "kernelspec": {
      "name": "python3",
      "display_name": "Python 3"
    },
    "language_info": {
      "name": "python"
    }
  },
  "cells": [
    {
      "cell_type": "markdown",
      "metadata": {
        "id": "view-in-github",
        "colab_type": "text"
      },
      "source": [
        "<a href=\"https://colab.research.google.com/github/cyriacmathew2003/Introduction-to-Python/blob/main/18_11_2022.ipynb\" target=\"_parent\"><img src=\"https://colab.research.google.com/assets/colab-badge.svg\" alt=\"Open In Colab\"/></a>"
      ]
    },
    {
      "cell_type": "code",
      "source": [],
      "metadata": {
        "id": "D2SmsRTh6dM8"
      },
      "execution_count": null,
      "outputs": []
    },
    {
      "cell_type": "code",
      "execution_count": null,
      "metadata": {
        "colab": {
          "base_uri": "https://localhost:8080/"
        },
        "id": "BahQMnwZ2g5O",
        "outputId": "f6619671-8b75-4305-8327-e812489d2d5d"
      },
      "outputs": [
        {
          "output_type": "execute_result",
          "data": {
            "text/plain": [
              "int"
            ]
          },
          "metadata": {},
          "execution_count": 2
        }
      ],
      "source": [
        "a=10\n",
        "type(a)\n",
        "\n"
      ]
    },
    {
      "cell_type": "code",
      "source": [
        "b=12.5\n",
        "type(b)"
      ],
      "metadata": {
        "colab": {
          "base_uri": "https://localhost:8080/"
        },
        "id": "shWpYhuS3P61",
        "outputId": "7006fbeb-808f-46d5-f3c1-e217033a2510"
      },
      "execution_count": null,
      "outputs": [
        {
          "output_type": "execute_result",
          "data": {
            "text/plain": [
              "float"
            ]
          },
          "metadata": {},
          "execution_count": 3
        }
      ]
    },
    {
      "cell_type": "code",
      "source": [
        "a=12\n",
        "b=12.5\n",
        "print(a+b)"
      ],
      "metadata": {
        "colab": {
          "base_uri": "https://localhost:8080/"
        },
        "id": "vDXu4neR3eYG",
        "outputId": "9bee828c-39a6-477a-f6a5-23abc30a50f7"
      },
      "execution_count": null,
      "outputs": [
        {
          "output_type": "stream",
          "name": "stdout",
          "text": [
            "24.5\n"
          ]
        }
      ]
    },
    {
      "cell_type": "code",
      "source": [
        "c=10+5j\n",
        "type(c)"
      ],
      "metadata": {
        "colab": {
          "base_uri": "https://localhost:8080/"
        },
        "id": "wML3R7zD3qNa",
        "outputId": "eac39816-1487-44b0-be57-e85e15379485"
      },
      "execution_count": null,
      "outputs": [
        {
          "output_type": "execute_result",
          "data": {
            "text/plain": [
              "complex"
            ]
          },
          "metadata": {},
          "execution_count": 6
        }
      ]
    },
    {
      "cell_type": "code",
      "source": [
        "c=\"cyrobv\"\n",
        "type(c)"
      ],
      "metadata": {
        "colab": {
          "base_uri": "https://localhost:8080/"
        },
        "id": "BCKa6eLm4MOp",
        "outputId": "d6743b5f-f3b3-4723-dc62-83e47d785474"
      },
      "execution_count": null,
      "outputs": [
        {
          "output_type": "execute_result",
          "data": {
            "text/plain": [
              "str"
            ]
          },
          "metadata": {},
          "execution_count": 8
        }
      ]
    },
    {
      "cell_type": "code",
      "source": [
        "f=(\"alan\" ,\"abraham\")\n",
        "type(f)"
      ],
      "metadata": {
        "colab": {
          "base_uri": "https://localhost:8080/"
        },
        "id": "m3wx3sJB4dRB",
        "outputId": "b5da7276-b5b3-4db7-ef16-bef9be193101"
      },
      "execution_count": null,
      "outputs": [
        {
          "output_type": "execute_result",
          "data": {
            "text/plain": [
              "tuple"
            ]
          },
          "metadata": {},
          "execution_count": 11
        }
      ]
    },
    {
      "cell_type": "code",
      "source": [
        "f=[\"alan\" ,\"abraham\"]\n",
        "type(f)"
      ],
      "metadata": {
        "colab": {
          "base_uri": "https://localhost:8080/"
        },
        "id": "ZamOXGea5TVl",
        "outputId": "1355c999-3c58-4889-f4d9-2b40f6cebca6"
      },
      "execution_count": null,
      "outputs": [
        {
          "output_type": "execute_result",
          "data": {
            "text/plain": [
              "list"
            ]
          },
          "metadata": {},
          "execution_count": 13
        }
      ]
    },
    {
      "cell_type": "code",
      "source": [
        "f=[\"alan\" ,\"abraham\",\"ejo\",\"aldrin\"]\n",
        "print(type(f))\n",
        "print(f)\n",
        "print(f[0])\n",
        "print(f[1])"
      ],
      "metadata": {
        "colab": {
          "base_uri": "https://localhost:8080/"
        },
        "id": "i3Q6hQMo6f9u",
        "outputId": "821bed95-5cf9-4f7d-8b4a-7aa6b57c128e"
      },
      "execution_count": null,
      "outputs": [
        {
          "output_type": "stream",
          "name": "stdout",
          "text": [
            "<class 'list'>\n",
            "['alan', 'abraham', 'ejo', 'aldrin']\n",
            "alan\n",
            "abraham\n"
          ]
        }
      ]
    },
    {
      "cell_type": "code",
      "source": [
        "colors=[\"red\",\"blue\",\"yellow\"]\n",
        "print(f)"
      ],
      "metadata": {
        "colab": {
          "base_uri": "https://localhost:8080/"
        },
        "id": "jqekSkLC6fmB",
        "outputId": "4223167a-6dcd-424f-a926-e40177401882"
      },
      "execution_count": null,
      "outputs": [
        {
          "output_type": "stream",
          "name": "stdout",
          "text": [
            "['abraham', 'ejo', 'aldrin']\n"
          ]
        }
      ]
    },
    {
      "cell_type": "code",
      "source": [
        "f.pop(3)"
      ],
      "metadata": {
        "colab": {
          "base_uri": "https://localhost:8080/",
          "height": 36
        },
        "id": "TxDl8L1y8TYt",
        "outputId": "d2e04c9e-2cf9-44d0-b254-d247ea9a1df9"
      },
      "execution_count": null,
      "outputs": [
        {
          "output_type": "execute_result",
          "data": {
            "text/plain": [
              "'aldrin'"
            ],
            "application/vnd.google.colaboratory.intrinsic+json": {
              "type": "string"
            }
          },
          "metadata": {},
          "execution_count": 40
        }
      ]
    },
    {
      "cell_type": "code",
      "source": [
        "print(f)"
      ],
      "metadata": {
        "colab": {
          "base_uri": "https://localhost:8080/"
        },
        "id": "EPZzCFlj8XgF",
        "outputId": "f48c32dc-3b6a-42aa-8b30-a7c64fd3c355"
      },
      "execution_count": null,
      "outputs": [
        {
          "output_type": "stream",
          "name": "stdout",
          "text": [
            "['alan', 'abraham', 'ejo']\n"
          ]
        }
      ]
    },
    {
      "cell_type": "code",
      "source": [
        "f.append(\"aldrin\")"
      ],
      "metadata": {
        "id": "VJqrgsqe8ae1"
      },
      "execution_count": null,
      "outputs": []
    },
    {
      "cell_type": "code",
      "source": [
        "print(f)"
      ],
      "metadata": {
        "colab": {
          "base_uri": "https://localhost:8080/"
        },
        "id": "jGUPNrUI9_GF",
        "outputId": "9e5b5d87-3ba8-4636-ede3-da349ebfaae4"
      },
      "execution_count": null,
      "outputs": [
        {
          "output_type": "stream",
          "name": "stdout",
          "text": [
            "['alan', 'abraham', 'ejo', 'aldrin']\n"
          ]
        }
      ]
    },
    {
      "cell_type": "code",
      "source": [
        "f.insert(1,\"asds\")"
      ],
      "metadata": {
        "id": "fnJC8NtT-CXq"
      },
      "execution_count": null,
      "outputs": []
    },
    {
      "cell_type": "code",
      "source": [
        "print(f)"
      ],
      "metadata": {
        "colab": {
          "base_uri": "https://localhost:8080/"
        },
        "id": "iJwitRIP-ybK",
        "outputId": "1959b540-bfba-4517-c9be-b6f2f118f03d"
      },
      "execution_count": null,
      "outputs": [
        {
          "output_type": "stream",
          "name": "stdout",
          "text": [
            "['abraham', 'asds', 'alan', 'aldrin', 'ds', 'ejo']\n"
          ]
        }
      ]
    },
    {
      "cell_type": "code",
      "source": [
        "f.reverse"
      ],
      "metadata": {
        "colab": {
          "base_uri": "https://localhost:8080/"
        },
        "id": "pLI5nIeU_oGT",
        "outputId": "064f27ae-c059-478b-e4cb-45227b963d5d"
      },
      "execution_count": null,
      "outputs": [
        {
          "output_type": "execute_result",
          "data": {
            "text/plain": [
              "<function list.reverse()>"
            ]
          },
          "metadata": {},
          "execution_count": 55
        }
      ]
    },
    {
      "cell_type": "code",
      "source": [
        "print(f)"
      ],
      "metadata": {
        "colab": {
          "base_uri": "https://localhost:8080/"
        },
        "id": "zNhpHpPcAV2Z",
        "outputId": "06f948a8-7895-4969-d4bc-34c326143241"
      },
      "execution_count": null,
      "outputs": [
        {
          "output_type": "stream",
          "name": "stdout",
          "text": [
            "['abraham', 'asds', 'alan', 'aldrin', 'ds', 'ejo']\n"
          ]
        }
      ]
    },
    {
      "cell_type": "code",
      "source": [
        "f.sort()"
      ],
      "metadata": {
        "id": "VYmRB1H4AZMJ"
      },
      "execution_count": null,
      "outputs": []
    },
    {
      "cell_type": "code",
      "source": [
        "print(f)"
      ],
      "metadata": {
        "colab": {
          "base_uri": "https://localhost:8080/"
        },
        "id": "jLWLq4z4AmvM",
        "outputId": "b124f306-69d9-4367-9dc4-34eaadacc2d3"
      },
      "execution_count": null,
      "outputs": [
        {
          "output_type": "stream",
          "name": "stdout",
          "text": [
            "['abraham', 'alan', 'aldrin', 'asds', 'ds', 'ejo']\n"
          ]
        }
      ]
    },
    {
      "cell_type": "code",
      "source": [
        "print(f+colors)"
      ],
      "metadata": {
        "colab": {
          "base_uri": "https://localhost:8080/"
        },
        "id": "u4-AUWtbAqsd",
        "outputId": "e2e76423-1a01-4b99-df69-0190a94d244d"
      },
      "execution_count": null,
      "outputs": [
        {
          "output_type": "stream",
          "name": "stdout",
          "text": [
            "['abraham', 'alan', 'aldrin', 'asds', 'ds', 'ejo', 'red', 'blue', 'yellow']\n"
          ]
        }
      ]
    },
    {
      "cell_type": "code",
      "source": [
        "dict={'name':\"cyriac\",'sex':\"male\",'no':\"9744043295\"}\n",
        "dict['name']=\"mathew\"\n",
        "type(dict)"
      ],
      "metadata": {
        "colab": {
          "base_uri": "https://localhost:8080/"
        },
        "id": "4JprKkHsBxYY",
        "outputId": "1f958aa2-3a06-471d-e943-e237ce9d2999"
      },
      "execution_count": null,
      "outputs": [
        {
          "output_type": "execute_result",
          "data": {
            "text/plain": [
              "dict"
            ]
          },
          "metadata": {},
          "execution_count": 72
        }
      ]
    },
    {
      "cell_type": "code",
      "source": [
        "print(dict)"
      ],
      "metadata": {
        "colab": {
          "base_uri": "https://localhost:8080/"
        },
        "id": "bniQJRoBJJqh",
        "outputId": "4f36432d-c165-4c51-e71f-efcdf49610a8"
      },
      "execution_count": null,
      "outputs": [
        {
          "output_type": "stream",
          "name": "stdout",
          "text": [
            "{'name': 'mathew', 'sex': 'male', 'no': '9744043295'}\n"
          ]
        }
      ]
    },
    {
      "cell_type": "code",
      "source": [
        "def add(x,y,z):\n",
        "  return(x*y*z)\n",
        "add(2,3,6)"
      ],
      "metadata": {
        "colab": {
          "base_uri": "https://localhost:8080/"
        },
        "id": "f61HMiIUJYjB",
        "outputId": "6ad52373-127c-44aa-9a6d-a37895d7090f"
      },
      "execution_count": null,
      "outputs": [
        {
          "output_type": "execute_result",
          "data": {
            "text/plain": [
              "36"
            ]
          },
          "metadata": {},
          "execution_count": 77
        }
      ]
    },
    {
      "cell_type": "code",
      "source": [],
      "metadata": {
        "id": "iFT1efJgL2uS"
      },
      "execution_count": null,
      "outputs": []
    }
  ]
}