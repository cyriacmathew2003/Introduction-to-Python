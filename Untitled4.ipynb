{
  "nbformat": 4,
  "nbformat_minor": 0,
  "metadata": {
    "colab": {
      "provenance": [],
      "authorship_tag": "ABX9TyM6t/B9dT8kAqjHzcfmRX+H",
      "include_colab_link": true
    },
    "kernelspec": {
      "name": "python3",
      "display_name": "Python 3"
    },
    "language_info": {
      "name": "python"
    }
  },
  "cells": [
    {
      "cell_type": "markdown",
      "metadata": {
        "id": "view-in-github",
        "colab_type": "text"
      },
      "source": [
        "<a href=\"https://colab.research.google.com/github/cyriacmathew2003/Introduction-to-Python/blob/main/Untitled4.ipynb\" target=\"_parent\"><img src=\"https://colab.research.google.com/assets/colab-badge.svg\" alt=\"Open In Colab\"/></a>"
      ]
    },
    {
      "cell_type": "code",
      "source": [
        "def ff():\n",
        "  print(\"fifa world cup 2022\")\n",
        "ff()"
      ],
      "metadata": {
        "colab": {
          "base_uri": "https://localhost:8080/"
        },
        "id": "ZlQS9-jUt8Xc",
        "outputId": "98380d13-7a56-4106-f78c-3985b8ab37fe"
      },
      "execution_count": 1,
      "outputs": [
        {
          "output_type": "stream",
          "name": "stdout",
          "text": [
            "fifa world cup 2022\n"
          ]
        }
      ]
    },
    {
      "cell_type": "code",
      "source": [
        "def ff():\n",
        "  x=input(\"enter first name\")\n",
        "  y=input(\"enter middle name\")\n",
        "  z=input(\"enter last name\")\n",
        "  print(x,y,z)\n",
        "  \n",
        "\n"
      ],
      "metadata": {
        "id": "rXXK4JGMvXnI"
      },
      "execution_count": 2,
      "outputs": []
    },
    {
      "cell_type": "code",
      "source": [
        "ff()"
      ],
      "metadata": {
        "colab": {
          "base_uri": "https://localhost:8080/"
        },
        "id": "2PwSDfrMw8Fl",
        "outputId": "1d1a051f-33dd-45dd-ce11-4bc3c765dac1"
      },
      "execution_count": 3,
      "outputs": [
        {
          "output_type": "stream",
          "name": "stdout",
          "text": [
            "enter first namehello\n",
            "enter middle nameworld\n",
            "enter last namedd\n",
            "hello world dd\n"
          ]
        }
      ]
    },
    {
      "cell_type": "code",
      "source": [
        "def ff():\n",
        "  print(z,y,x)\n",
        "\n",
        "  x=input(\"enter first name\")\n",
        "  y=input(\"enter middle name\")\n",
        "  z=input(\"enter last name\")\n",
        "  \n",
        "  ff()"
      ],
      "metadata": {
        "id": "G--sPcQAxNJa"
      },
      "execution_count": 4,
      "outputs": []
    },
    {
      "cell_type": "code",
      "source": [
        "def name(*x):\n",
        "  print('my favourate player is',chris[1])\n",
        "  print('my favourate player is',abi[2])\n",
        "chris=['messi','ronaldo','naymer']\n",
        "abi=['pepe','suarus','sala']\n",
        "name(chris)\n",
        "name(abi)"
      ],
      "metadata": {
        "id": "t8KUu5g_1vl1",
        "colab": {
          "base_uri": "https://localhost:8080/"
        },
        "outputId": "5420312c-9187-4775-d9ac-0ec3e0128010"
      },
      "execution_count": 6,
      "outputs": [
        {
          "output_type": "stream",
          "name": "stdout",
          "text": [
            "my favourate player is ronaldo\n",
            "my favourate player is sala\n",
            "my favourate player is ronaldo\n",
            "my favourate player is sala\n"
          ]
        }
      ]
    },
    {
      "cell_type": "code",
      "source": [
        "def fact(n):\n",
        "  if n <= 1:\n",
        "    return n\n",
        "  else:\n",
        "    return(fact(n-1)*n)\n",
        "  print(fact(10))\n",
        "  "
      ],
      "metadata": {
        "id": "NsFY3_7J5ubY"
      },
      "execution_count": 7,
      "outputs": []
    },
    {
      "cell_type": "code",
      "source": [
        "362800"
      ],
      "metadata": {
        "colab": {
          "base_uri": "https://localhost:8080/"
        },
        "id": "u-hioV2G7Hgv",
        "outputId": "d9a50127-1b62-4296-be5e-523b53a8ba92"
      },
      "execution_count": 8,
      "outputs": [
        {
          "output_type": "execute_result",
          "data": {
            "text/plain": [
              "362800"
            ]
          },
          "metadata": {},
          "execution_count": 8
        }
      ]
    },
    {
      "cell_type": "code",
      "source": [],
      "metadata": {
        "id": "Qt99W0XK8YL2"
      },
      "execution_count": 9,
      "outputs": []
    }
  ]
}